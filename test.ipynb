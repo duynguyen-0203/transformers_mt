{
 "cells": [
  {
   "cell_type": "code",
   "execution_count": 8,
   "metadata": {
    "collapsed": true,
    "pycharm": {
     "name": "#%%\n"
    }
   },
   "outputs": [],
   "source": [
    "from typing import List\n",
    "import string\n",
    "\n",
    "import torch\n",
    "from tqdm import tqdm\n",
    "from transformers import AutoTokenizer"
   ]
  },
  {
   "cell_type": "code",
   "execution_count": 13,
   "metadata": {
    "collapsed": false,
    "pycharm": {
     "name": "#%%\n"
    }
   },
   "outputs": [],
   "source": [
    "tokenizer = AutoTokenizer.from_pretrained('tokenizer/khmer-vi-0.4')"
   ]
  },
  {
   "cell_type": "code",
   "execution_count": 14,
   "metadata": {
    "collapsed": false,
    "pycharm": {
     "name": "#%%\n"
    }
   },
   "outputs": [],
   "source": [
    "def read_data(path: str):\n",
    "    with open(path, mode='r', encoding='utf-8') as f:\n",
    "        lines = f.read()\n",
    "    lines = lines.split('\\n')\n",
    "    if lines[-1] == '':\n",
    "        lines = lines[:-1]\n",
    "\n",
    "    return lines"
   ]
  },
  {
   "cell_type": "code",
   "execution_count": 15,
   "outputs": [],
   "source": [
    "def convert_tokens(tokens: List[str]):\n",
    "    res = []\n",
    "    for i, token in enumerate(tokens):\n",
    "        if token.startswith(chr(9601)):\n",
    "            res.append(token[1:])\n",
    "        elif token in string.punctuation:\n",
    "            res.append(token)\n",
    "        elif len(res) != 0:\n",
    "            res[-1] += token\n",
    "        else:\n",
    "            res.append(token)\n",
    "\n",
    "    return res"
   ],
   "metadata": {
    "collapsed": false,
    "pycharm": {
     "name": "#%%\n"
    }
   }
  },
  {
   "cell_type": "code",
   "execution_count": 16,
   "metadata": {
    "collapsed": false,
    "pycharm": {
     "name": "#%%\n"
    }
   },
   "outputs": [],
   "source": [
    "test_vi = read_data('training_data/valid.vi')\n",
    "test_km = read_data('training_data/valid.km')"
   ]
  },
  {
   "cell_type": "code",
   "execution_count": 17,
   "metadata": {
    "collapsed": false,
    "pycharm": {
     "name": "#%%\n"
    }
   },
   "outputs": [],
   "source": [
    "model_path = 'train/2022-08-03_14-21-51/bestLossModel_iter=85999.pt'\n",
    "saved_point = torch.load(model_path, map_location=torch.device('cpu'))\n",
    "model = saved_point['model']\n",
    "model = model.to('cpu')"
   ]
  },
  {
   "cell_type": "code",
   "execution_count": 18,
   "metadata": {
    "collapsed": false,
    "pycharm": {
     "name": "#%%\n"
    }
   },
   "outputs": [
    {
     "name": "stderr",
     "output_type": "stream",
     "text": [
      "100%|██████████| 2000/2000 [33:09<00:00,  1.01it/s] \n"
     ]
    }
   ],
   "source": [
    "predict_idx = []\n",
    "max_length = 128\n",
    "for sent in tqdm(test_vi):\n",
    "    src = tokenizer.encode(sent, add_special_tokens=True)\n",
    "    src = torch.tensor([src])\n",
    "    num_tokens = src.shape[1]\n",
    "\n",
    "    src_mask = (torch.zeros(num_tokens, num_tokens)).type(torch.bool)\n",
    "    memory = model.encode(src, src_mask)\n",
    "    ys = torch.ones(1, 1).fill_(tokenizer.bos_token_id).type(torch.long)\n",
    "\n",
    "    for _ in range(max_length - 1):\n",
    "\n",
    "        tgt_mask = model.generate_square_subsequent_mask(sz=ys.size(1))\n",
    "        out = model.decode(ys, memory, tgt_mask)\n",
    "        prob = model.generator(out[:, -1])\n",
    "        _, next_word = torch.max(prob, dim=1)\n",
    "        next_word = next_word.item()\n",
    "\n",
    "        ys = torch.cat([ys, torch.ones(1, 1).type_as(src.data).fill_(next_word)], dim=1)\n",
    "        if next_word == tokenizer.eos_token_id:\n",
    "            break\n",
    "    predict_idx.append(ys)"
   ]
  },
  {
   "cell_type": "code",
   "execution_count": 19,
   "outputs": [
    {
     "name": "stderr",
     "output_type": "stream",
     "text": [
      "100%|██████████| 2000/2000 [00:00<00:00, 3657.28it/s]\n"
     ]
    }
   ],
   "source": [
    "targets = []\n",
    "for sent in tqdm(test_km):\n",
    "    targets.append(tokenizer.tokenize(sent, add_special_tokens=False))"
   ],
   "metadata": {
    "collapsed": false,
    "pycharm": {
     "name": "#%%\n"
    }
   }
  },
  {
   "cell_type": "code",
   "execution_count": 20,
   "outputs": [],
   "source": [
    "def convert_tokens(tokens: List[str]):\n",
    "    res = []\n",
    "    for i, token in enumerate(tokens):\n",
    "        if token.startswith(chr(9601)):\n",
    "            res.append(token[1:])\n",
    "        elif token in string.punctuation:\n",
    "            res.append(token)\n",
    "        else:\n",
    "            res.append(token)\n",
    "\n",
    "    return res"
   ],
   "metadata": {
    "collapsed": false,
    "pycharm": {
     "name": "#%%\n"
    }
   }
  },
  {
   "cell_type": "code",
   "execution_count": 21,
   "outputs": [],
   "source": [
    "total_predicts = [tokenizer.convert_ids_to_tokens(i[0], skip_special_tokens=True) for i in predict_idx]"
   ],
   "metadata": {
    "collapsed": false,
    "pycharm": {
     "name": "#%%\n"
    }
   }
  },
  {
   "cell_type": "code",
   "execution_count": 28,
   "outputs": [
    {
     "data": {
      "text/plain": "'ក្រៅពីនោះ ក្រុមហ៊ុន គ្រប់គ្រង បំណុល អាក្រក់ ក៏កំពុង ដោះស្រាយ បំណុល អាក្រក់ ដើម្បី ដោះស្រាយ បំណុល អាក្រក់ តាមរយៈ ដំណោះស្រាយ ផ្សេងៗ ដើម្បីដោះស្រាយ បំណុល អាក្រក់ ។'"
     },
     "execution_count": 28,
     "metadata": {},
     "output_type": "execute_result"
    }
   ],
   "source": [
    "' '.join(total_predicts[0])"
   ],
   "metadata": {
    "collapsed": false,
    "pycharm": {
     "name": "#%%\n"
    }
   }
  },
  {
   "cell_type": "code",
   "execution_count": 22,
   "outputs": [],
   "source": [
    "total_predicts = [convert_tokens(i) for i in total_predicts]"
   ],
   "metadata": {
    "collapsed": false,
    "pycharm": {
     "name": "#%%\n"
    }
   }
  },
  {
   "cell_type": "code",
   "execution_count": 23,
   "outputs": [],
   "source": [
    "targets = [[convert_tokens(i)] for i in targets]"
   ],
   "metadata": {
    "collapsed": false,
    "pycharm": {
     "name": "#%%\n"
    }
   }
  },
  {
   "cell_type": "code",
   "execution_count": 24,
   "outputs": [],
   "source": [
    "from datasets import load_metric"
   ],
   "metadata": {
    "collapsed": false,
    "pycharm": {
     "name": "#%%\n"
    }
   }
  },
  {
   "cell_type": "code",
   "execution_count": 25,
   "outputs": [],
   "source": [
    "bleu = load_metric(\"bleu\")"
   ],
   "metadata": {
    "collapsed": false,
    "pycharm": {
     "name": "#%%\n"
    }
   }
  },
  {
   "cell_type": "code",
   "execution_count": 26,
   "outputs": [
    {
     "data": {
      "text/plain": "{'bleu': 0.05546354409392583,\n 'precisions': [0.30650861285567155,\n  0.09154233043624656,\n  0.03543575210351721,\n  0.01479813414830304],\n 'brevity_penalty': 0.8955282735259068,\n 'length_ratio': 0.9006238291835659,\n 'translation_length': 49519,\n 'reference_length': 54983}"
     },
     "execution_count": 26,
     "metadata": {},
     "output_type": "execute_result"
    }
   ],
   "source": [
    "bleu.compute(predictions=total_predicts, references=targets)"
   ],
   "metadata": {
    "collapsed": false,
    "pycharm": {
     "name": "#%%\n"
    }
   }
  },
  {
   "cell_type": "code",
   "execution_count": 70,
   "outputs": [
    {
     "data": {
      "text/plain": "{'bleu': 0.011966238520574792,\n 'precisions': [0.11082148625525723,\n  0.01916310111839823,\n  0.005569507799019356,\n  0.0017335007871508677],\n 'brevity_penalty': 1.0,\n 'length_ratio': 1.225560520539354,\n 'translation_length': 62533,\n 'reference_length': 51024}"
     },
     "execution_count": 70,
     "metadata": {},
     "output_type": "execute_result"
    }
   ],
   "source": [
    "bleu.compute(predictions=total_predicts, references=targets)"
   ],
   "metadata": {
    "collapsed": false,
    "pycharm": {
     "name": "#%%\n"
    }
   }
  },
  {
   "cell_type": "code",
   "execution_count": null,
   "outputs": [],
   "source": [],
   "metadata": {
    "collapsed": false,
    "pycharm": {
     "name": "#%%\n"
    }
   }
  }
 ],
 "metadata": {
  "kernelspec": {
   "display_name": "Python 3",
   "language": "python",
   "name": "python3"
  },
  "language_info": {
   "codemirror_mode": {
    "name": "ipython",
    "version": 2
   },
   "file_extension": ".py",
   "mimetype": "text/x-python",
   "name": "python",
   "nbconvert_exporter": "python",
   "pygments_lexer": "ipython2",
   "version": "2.7.6"
  }
 },
 "nbformat": 4,
 "nbformat_minor": 0
}